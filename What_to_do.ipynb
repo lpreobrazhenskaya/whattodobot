{
  "nbformat": 4,
  "nbformat_minor": 0,
  "metadata": {
    "colab": {
      "provenance": []
    },
    "kernelspec": {
      "name": "python3",
      "display_name": "Python 3"
    },
    "language_info": {
      "name": "python"
    }
  },
  "cells": [
    {
      "cell_type": "code",
      "execution_count": 1,
      "metadata": {
        "colab": {
          "base_uri": "https://localhost:8080/"
        },
        "id": "RHg4TQv24FSS",
        "outputId": "1f714331-8ea0-46bc-d3fc-a9f7f3a218da"
      },
      "outputs": [
        {
          "output_type": "stream",
          "name": "stdout",
          "text": [
            "Collecting pyTelegramBotAPI\n",
            "  Downloading pyTelegramBotAPI-4.14.0.tar.gz (243 kB)\n",
            "\u001b[2K     \u001b[90m━━━━━━━━━━━━━━━━━━━━━━━━━━━━━━━━━━━━━━━━\u001b[0m \u001b[32m243.1/243.1 kB\u001b[0m \u001b[31m4.4 MB/s\u001b[0m eta \u001b[36m0:00:00\u001b[0m\n",
            "\u001b[?25h  Preparing metadata (setup.py) ... \u001b[?25l\u001b[?25hdone\n",
            "Requirement already satisfied: requests in /usr/local/lib/python3.10/dist-packages (from pyTelegramBotAPI) (2.31.0)\n",
            "Requirement already satisfied: charset-normalizer<4,>=2 in /usr/local/lib/python3.10/dist-packages (from requests->pyTelegramBotAPI) (3.3.1)\n",
            "Requirement already satisfied: idna<4,>=2.5 in /usr/local/lib/python3.10/dist-packages (from requests->pyTelegramBotAPI) (3.4)\n",
            "Requirement already satisfied: urllib3<3,>=1.21.1 in /usr/local/lib/python3.10/dist-packages (from requests->pyTelegramBotAPI) (2.0.7)\n",
            "Requirement already satisfied: certifi>=2017.4.17 in /usr/local/lib/python3.10/dist-packages (from requests->pyTelegramBotAPI) (2023.7.22)\n",
            "Building wheels for collected packages: pyTelegramBotAPI\n",
            "  Building wheel for pyTelegramBotAPI (setup.py) ... \u001b[?25l\u001b[?25hdone\n",
            "  Created wheel for pyTelegramBotAPI: filename=pyTelegramBotAPI-4.14.0-py3-none-any.whl size=215251 sha256=138c188b771b4df325fbae7f3a744c8cf79fef8b6fb998612991f91eb0850ade\n",
            "  Stored in directory: /root/.cache/pip/wheels/25/51/2d/24b40a366c85c37928d5aa36ddf257e5a79fad25e1ecd11b2c\n",
            "Successfully built pyTelegramBotAPI\n",
            "Installing collected packages: pyTelegramBotAPI\n",
            "Successfully installed pyTelegramBotAPI-4.14.0\n"
          ]
        }
      ],
      "source": [
        "!pip install pyTelegramBotAPI\n",
        "\n",
        "import telebot\n",
        "import random\n",
        "import webbrowser\n",
        "from telebot import types"
      ]
    },
    {
      "cell_type": "code",
      "source": [
        "setty = ['Да', 'Нет', 'Возможно да', '50/50', 'Возможно нет', 'Не думай вообще об этом']"
      ],
      "metadata": {
        "id": "G9v-74hE4PwD"
      },
      "execution_count": 2,
      "outputs": []
    },
    {
      "cell_type": "code",
      "source": [
        "bot = telebot.TeleBot('6928117210:AAG1tpjiNznHyP38qsFM6O1phdswfuNl-jQ')"
      ],
      "metadata": {
        "id": "Y-02lcbT4UJK"
      },
      "execution_count": 3,
      "outputs": []
    },
    {
      "cell_type": "code",
      "source": [
        "@bot.message_handler(commands = ['start'])\n",
        "def start(message):\n",
        "    bot.send_message(message.chat.id, f'Здравствуй, {message.from_user.first_name}! \\nЯ помогу тебе ответить на вопрос <b>\"Да или нет?\"</b> Для этого просто напиши мне свой вопрос или \"/what\". Если тебе грустно, напиши \"/sad\"', parse_mode = 'html')  #message for videt' vse opzii\n",
        "\n",
        "@bot.message_handler(commands = ['what'])\n",
        "def main(message):\n",
        "    bot.send_message(message.chat.id, f'{random.choice(setty)}!')\n",
        "\n",
        "# @bot.message_handler(commands = ['sad'])\n",
        "# def sad(message):\n",
        "#     webbrowser.open('https://www.youtube.com/watch?v=dQw4w9WgXcQ')\n",
        "\n",
        "@bot.message_handler(commands = ['sad'])\n",
        "def site(message):\n",
        "    markup = types.InlineKeyboardMarkup()\n",
        "    markup.add(types.InlineKeyboardButton('Не грусти дружочек', url = 'https://www.youtube.com/watch?v=dQw4w9WgXcQ'))\n",
        "    bot.reply_to(message, 'click here', reply_markup = markup)\n",
        "\n",
        "\n",
        "@bot.message_handler()\n",
        "def last(message):\n",
        "  if message.text.lower() == 'лариса кринж':\n",
        "    bot.send_message(message.chat.id, f'Диана идет нахуй!')\n",
        "  else:\n",
        "    bot.send_message(message.chat.id, f'{random.choice(setty)}!')\n",
        "\n",
        "\n",
        "# @bot.message_handler()\n",
        "# def last(message):\n",
        "#     bot.send_message(message.chat.id, f'ID: {message.from_user.id}')\n",
        "\n",
        "bot.polling(non_stop=True)   #bot.infinity_polling()"
      ],
      "metadata": {
        "id": "oR2dYApu4Vhq"
      },
      "execution_count": null,
      "outputs": []
    },
    {
      "cell_type": "code",
      "source": [],
      "metadata": {
        "id": "zC3EpHun4g_b"
      },
      "execution_count": null,
      "outputs": []
    }
  ]
}